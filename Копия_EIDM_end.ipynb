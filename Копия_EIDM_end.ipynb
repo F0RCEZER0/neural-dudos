{
  "cells": [
    {
      "cell_type": "markdown",
      "metadata": {
        "id": "e8yxhzEWfO8A"
      },
      "source": [
        "Тут я использую нейронку EIDM. Ее описание встречается только тут:\n",
        "\n",
        "https://link.springer.com/article/10.1007/s11227-023-05197-0\n",
        "\n",
        "Сейчас она распознает только 4 класса веб атак. В теории она сможет хорошо распозновать 15 класаов."
      ]
    },
    {
      "cell_type": "code",
      "execution_count": null,
      "metadata": {
        "id": "oP8voiNmfO8F"
      },
      "outputs": [],
      "source": [
        "from keras.callbacks import Callback\n",
        "from sklearn.metrics import confusion_matrix, f1_score, precision_score, recall_score,classification_report\n",
        "from sklearn.feature_selection import SelectKBest\n",
        "from sklearn.feature_selection import chi2, f_classif\n",
        "\n",
        "from tensorflow import keras\n",
        "from tensorflow.keras.models import Sequential\n",
        "from tensorflow.keras.layers import Dense, Dropout,Embedding\n",
        "from tensorflow.keras.layers import LSTM, Conv1D,Conv2D, MaxPooling1D, Flatten,Bidirectional\n",
        "\n",
        "from tensorflow.keras.optimizers import RMSprop, SGD\n",
        "import pandas as pd\n",
        "import numpy as np\n",
        "from sklearn import preprocessing\n",
        "from sklearn.preprocessing import MaxAbsScaler, normalize, LabelEncoder\n",
        "from sklearn.model_selection import train_test_split"
      ]
    },
    {
      "cell_type": "code",
      "execution_count": null,
      "metadata": {
        "id": "73XewCZBfO8J"
      },
      "outputs": [],
      "source": [
        "# MODEL_PATH = './models/EIDM_model.keras'\n",
        "MODEL_PATH = \"./models/EIDM_2.keras\""
      ]
    },
    {
      "cell_type": "code",
      "execution_count": null,
      "metadata": {
        "colab": {
          "base_uri": "https://localhost:8080/"
        },
        "id": "kvMREVVxh3us",
        "outputId": "b27ce3f5-4cf4-4e5e-f44d-f263bdbaeece"
      },
      "outputs": [
        {
          "name": "stdout",
          "output_type": "stream",
          "text": [
            "Mounted at /content/drive\n"
          ]
        }
      ],
      "source": [
        "from google.colab import drive\n",
        "from tqdm import tqdm\n",
        "import os\n",
        "drive.mount('/content/drive')\n",
        "#папка для сохранения чего-то\n",
        "shared_folder_path = '/content/drive/MyDrive/dudos/'"
      ]
    },
    {
      "cell_type": "code",
      "execution_count": null,
      "metadata": {
        "id": "ZCgJRBPs9Pyo"
      },
      "outputs": [],
      "source": [
        "def save_df( path: str, name: str):\n",
        "  # Убедитесь, что папка существует\n",
        "  os.makedirs(path, exist_ok=True)\n",
        "\n",
        "  # Определите путь для сохранения файла\n",
        "  file_path = os.path.join(path, name)\n",
        "\n",
        "  # Укажите размер чанка\n",
        "  chunksize = 10000\n",
        "\n",
        "  # Откройте файл для записи\n",
        "  with open(file_path, 'w') as f:\n",
        "      # Запишите заголовок вручную\n",
        "      df.iloc[:0].to_csv(f, index=False)\n",
        "\n",
        "      # Создайте tqdm-объект для отслеживания прогресса\n",
        "      with tqdm(total=len(df), desc=\"Saving to CSV\", unit=\"row\") as pbar:\n",
        "          # Итерация по чанкам\n",
        "          for i in range(0, len(df), chunksize):\n",
        "              df_chunk = df.iloc[i:i+chunksize]\n",
        "              df_chunk.to_csv(f, header=False, index=False)\n",
        "              pbar.update(len(df_chunk))\n",
        "\n",
        "  # Отображение количества значений в столбце 'Label'\n",
        "  print(df['Label'].value_counts())"
      ]
    },
    {
      "cell_type": "code",
      "execution_count": null,
      "metadata": {
        "id": "AEYi2vGQpkcV"
      },
      "outputs": [],
      "source": [
        "import requests, zipfile, io\n",
        "from tqdm import tqdm"
      ]
    },
    {
      "cell_type": "markdown",
      "metadata": {
        "id": "9FUZ-0-QJ2nK"
      },
      "source": [
        "# Работа с датосетом"
      ]
    },
    {
      "cell_type": "code",
      "execution_count": null,
      "metadata": {
        "colab": {
          "base_uri": "https://localhost:8080/"
        },
        "id": "QXb9miSEJ2nL",
        "outputId": "0abb9f20-629d-42f0-8d52-5180f1783c36"
      },
      "outputs": [
        {
          "data": {
            "text/plain": [
              "(1162213, 78)"
            ]
          },
          "execution_count": 7,
          "metadata": {},
          "output_type": "execute_result"
        }
      ],
      "source": [
        "#data_path = \"./web_attacks_balanced.csv\"\n",
        "data_path = shared_folder_path + \"web_attacks_balanced.csv\"\n",
        "#read dataset\n",
        "data= pd.read_csv(data_path).replace([np.inf, -np.inf], np.nan).dropna(how=\"any\")\n",
        "data = data.iloc[:, :-7]\n",
        "data.shape"
      ]
    },
    {
      "cell_type": "code",
      "execution_count": null,
      "metadata": {
        "colab": {
          "base_uri": "https://localhost:8080/"
        },
        "id": "IlIcPnk9J2nL",
        "outputId": "4c9a89d8-176f-4db3-bbb2-43eb93f7d67d"
      },
      "outputs": [
        {
          "name": "stdout",
          "output_type": "stream",
          "text": [
            "   Destination Port  Flow Duration  Total Fwd Packets  Total Backward Packets  \\\n",
            "0           54865.0            3.0                2.0                     0.0   \n",
            "1           55054.0          109.0                1.0                     1.0   \n",
            "2           55055.0           52.0                1.0                     1.0   \n",
            "3           46236.0           34.0                1.0                     1.0   \n",
            "4           54863.0            3.0                2.0                     0.0   \n",
            "\n",
            "   Total Length of Fwd Packets  Total Length of Bwd Packets  \\\n",
            "0                         12.0                          0.0   \n",
            "1                          6.0                          6.0   \n",
            "2                          6.0                          6.0   \n",
            "3                          6.0                          6.0   \n",
            "4                         12.0                          0.0   \n",
            "\n",
            "   Fwd Packet Length Max  Fwd Packet Length Min  Fwd Packet Length Mean  \\\n",
            "0                    6.0                    6.0                     6.0   \n",
            "1                    6.0                    6.0                     6.0   \n",
            "2                    6.0                    6.0                     6.0   \n",
            "3                    6.0                    6.0                     6.0   \n",
            "4                    6.0                    6.0                     6.0   \n",
            "\n",
            "   Fwd Packet Length Std  ...  min_seg_size_forward  Active Mean  Active Std  \\\n",
            "0                    0.0  ...                  20.0          0.0         0.0   \n",
            "1                    0.0  ...                  20.0          0.0         0.0   \n",
            "2                    0.0  ...                  20.0          0.0         0.0   \n",
            "3                    0.0  ...                  20.0          0.0         0.0   \n",
            "4                    0.0  ...                  20.0          0.0         0.0   \n",
            "\n",
            "   Active Max  Active Min  Idle Mean  Idle Std  Idle Max  Idle Min   Label  \n",
            "0         0.0         0.0        0.0       0.0       0.0       0.0  BENIGN  \n",
            "1         0.0         0.0        0.0       0.0       0.0       0.0  BENIGN  \n",
            "2         0.0         0.0        0.0       0.0       0.0       0.0  BENIGN  \n",
            "3         0.0         0.0        0.0       0.0       0.0       0.0  BENIGN  \n",
            "4         0.0         0.0        0.0       0.0       0.0       0.0  BENIGN  \n",
            "\n",
            "[5 rows x 78 columns]\n",
            "<class 'pandas.core.frame.DataFrame'>\n",
            "RangeIndex: 1162213 entries, 0 to 1162212\n",
            "Data columns (total 78 columns):\n",
            " #   Column                       Non-Null Count    Dtype  \n",
            "---  ------                       --------------    -----  \n",
            " 0   Destination Port             1162213 non-null  float64\n",
            " 1   Flow Duration                1162213 non-null  float64\n",
            " 2   Total Fwd Packets            1162213 non-null  float64\n",
            " 3   Total Backward Packets       1162213 non-null  float64\n",
            " 4   Total Length of Fwd Packets  1162213 non-null  float64\n",
            " 5   Total Length of Bwd Packets  1162213 non-null  float64\n",
            " 6   Fwd Packet Length Max        1162213 non-null  float64\n",
            " 7   Fwd Packet Length Min        1162213 non-null  float64\n",
            " 8   Fwd Packet Length Mean       1162213 non-null  float64\n",
            " 9   Fwd Packet Length Std        1162213 non-null  float64\n",
            " 10  Bwd Packet Length Max        1162213 non-null  float64\n",
            " 11  Bwd Packet Length Min        1162213 non-null  float64\n",
            " 12  Bwd Packet Length Mean       1162213 non-null  float64\n",
            " 13  Bwd Packet Length Std        1162213 non-null  float64\n",
            " 14  Flow Bytes/s                 1162213 non-null  float64\n",
            " 15  Flow Packets/s               1162213 non-null  float64\n",
            " 16  Flow IAT Mean                1162213 non-null  float64\n",
            " 17  Flow IAT Std                 1162213 non-null  float64\n",
            " 18  Flow IAT Max                 1162213 non-null  float64\n",
            " 19  Flow IAT Min                 1162213 non-null  float64\n",
            " 20  Fwd IAT Total                1162213 non-null  float64\n",
            " 21  Fwd IAT Mean                 1162213 non-null  float64\n",
            " 22  Fwd IAT Std                  1162213 non-null  float64\n",
            " 23  Fwd IAT Max                  1162213 non-null  float64\n",
            " 24  Fwd IAT Min                  1162213 non-null  float64\n",
            " 25  Bwd IAT Total                1162213 non-null  float64\n",
            " 26  Bwd IAT Mean                 1162213 non-null  float64\n",
            " 27  Bwd IAT Std                  1162213 non-null  float64\n",
            " 28  Bwd IAT Max                  1162213 non-null  float64\n",
            " 29  Bwd IAT Min                  1162213 non-null  float64\n",
            " 30  Fwd PSH Flags                1162213 non-null  float64\n",
            " 31  Bwd PSH Flags                1162213 non-null  float64\n",
            " 32  Fwd URG Flags                1162213 non-null  float64\n",
            " 33  Bwd URG Flags                1162213 non-null  float64\n",
            " 34  Fwd Header Length            1162213 non-null  float64\n",
            " 35  Bwd Header Length            1162213 non-null  float64\n",
            " 36  Fwd Packets/s                1162213 non-null  float64\n",
            " 37  Bwd Packets/s                1162213 non-null  float64\n",
            " 38  Min Packet Length            1162213 non-null  float64\n",
            " 39  Max Packet Length            1162213 non-null  float64\n",
            " 40  Packet Length Mean           1162213 non-null  float64\n",
            " 41  Packet Length Std            1162213 non-null  float64\n",
            " 42  Packet Length Variance       1162213 non-null  float64\n",
            " 43  FIN Flag Count               1162213 non-null  float64\n",
            " 44  SYN Flag Count               1162213 non-null  float64\n",
            " 45  RST Flag Count               1162213 non-null  float64\n",
            " 46  PSH Flag Count               1162213 non-null  float64\n",
            " 47  ACK Flag Count               1162213 non-null  float64\n",
            " 48  URG Flag Count               1162213 non-null  float64\n",
            " 49  CWE Flag Count               1162213 non-null  float64\n",
            " 50  ECE Flag Count               1162213 non-null  float64\n",
            " 51  Down/Up Ratio                1162213 non-null  float64\n",
            " 52  Average Packet Size          1162213 non-null  float64\n",
            " 53  Avg Fwd Segment Size         1162213 non-null  float64\n",
            " 54  Avg Bwd Segment Size         1162213 non-null  float64\n",
            " 55  Fwd Avg Bytes/Bulk           1162213 non-null  float64\n",
            " 56  Fwd Avg Packets/Bulk         1162213 non-null  float64\n",
            " 57  Fwd Avg Bulk Rate            1162213 non-null  float64\n",
            " 58  Bwd Avg Bytes/Bulk           1162213 non-null  float64\n",
            " 59  Bwd Avg Packets/Bulk         1162213 non-null  float64\n",
            " 60  Bwd Avg Bulk Rate            1162213 non-null  float64\n",
            " 61  Subflow Fwd Packets          1162213 non-null  float64\n",
            " 62  Subflow Fwd Bytes            1162213 non-null  float64\n",
            " 63  Subflow Bwd Packets          1162213 non-null  float64\n",
            " 64  Subflow Bwd Bytes            1162213 non-null  float64\n",
            " 65  Init_Win_bytes_forward       1162213 non-null  float64\n",
            " 66  Init_Win_bytes_backward      1162213 non-null  float64\n",
            " 67  act_data_pkt_fwd             1162213 non-null  float64\n",
            " 68  min_seg_size_forward         1162213 non-null  float64\n",
            " 69  Active Mean                  1162213 non-null  float64\n",
            " 70  Active Std                   1162213 non-null  float64\n",
            " 71  Active Max                   1162213 non-null  float64\n",
            " 72  Active Min                   1162213 non-null  float64\n",
            " 73  Idle Mean                    1162213 non-null  float64\n",
            " 74  Idle Std                     1162213 non-null  float64\n",
            " 75  Idle Max                     1162213 non-null  float64\n",
            " 76  Idle Min                     1162213 non-null  float64\n",
            " 77  Label                        1162213 non-null  object \n",
            "dtypes: float64(77), object(1)\n",
            "memory usage: 691.6+ MB\n",
            "None\n"
          ]
        }
      ],
      "source": [
        "# Вывод первых 5 строк набора данных\n",
        "print(data.head())\n",
        "\n",
        "# Вывод информации о наборе данных\n",
        "print(data.info())"
      ]
    },
    {
      "cell_type": "code",
      "execution_count": null,
      "metadata": {
        "id": "qtO2pNLVLrxj"
      },
      "outputs": [],
      "source": [
        "filtered_data = data.loc[data['Label'] == 'BENIGN']\n",
        "_=filtered_data.pop('Label')"
      ]
    },
    {
      "cell_type": "code",
      "execution_count": null,
      "metadata": {
        "colab": {
          "base_uri": "https://localhost:8080/"
        },
        "id": "9VuDCXh8J2nL",
        "outputId": "36afce56-895b-4500-cba7-e73636973a40"
      },
      "outputs": [
        {
          "name": "stdout",
          "output_type": "stream",
          "text": [
            "Unique Labels:\n",
            "['BENIGN' 'DDoS' 'PortScan' 'Bot' 'Infiltration'\n",
            " 'Web Attack � Brute Force' 'Web Attack � XSS'\n",
            " 'Web Attack � Sql Injection']\n"
          ]
        }
      ],
      "source": [
        "#split dataset to train and test\n",
        "\n",
        "labels = data.pop('Label')\n",
        "# Вывод уникальных значений меток\n",
        "unique_labels = labels.unique()\n",
        "print(\"Unique Labels:\")\n",
        "print(unique_labels)\n",
        "#print(labels)\n",
        "pdtrain_data, pdtest_data, pdtrain_Label, pdtest_label = train_test_split(data,labels, test_size=0.2,shuffle=True,stratify=labels)"
      ]
    },
    {
      "cell_type": "code",
      "execution_count": null,
      "metadata": {
        "colab": {
          "base_uri": "https://localhost:8080/"
        },
        "id": "-3vLW8XqJ2nM",
        "outputId": "9cf6c63c-67fb-4a55-b843-01faffa6a88c"
      },
      "outputs": [
        {
          "data": {
            "text/plain": [
              "679161     BENIGN\n",
              "834293     BENIGN\n",
              "63657        DDoS\n",
              "862377     BENIGN\n",
              "963555     BENIGN\n",
              "            ...  \n",
              "1021898    BENIGN\n",
              "1025017    BENIGN\n",
              "997625     BENIGN\n",
              "224816     BENIGN\n",
              "1113434    BENIGN\n",
              "Name: Label, Length: 929770, dtype: object"
            ]
          },
          "execution_count": 10,
          "metadata": {},
          "output_type": "execute_result"
        }
      ],
      "source": [
        "pdtrain_Label"
      ]
    },
    {
      "cell_type": "code",
      "execution_count": null,
      "metadata": {
        "id": "hELk9Y3uJ2nM"
      },
      "outputs": [],
      "source": [
        "#convert data from pd to numpy arrary\n",
        "train_data = pdtrain_data.to_numpy()\n",
        "test_data = pdtest_data.to_numpy()\n",
        "\n",
        "filtered_data=filtered_data.to_numpy()\n",
        "\n",
        "\n",
        "train_data = train_data.astype('float32')\n",
        "test_data = test_data.astype('float32')\n",
        "filtered_data= filtered_data.astype('float32')\n",
        "\n",
        "\n",
        "#normalize data\n",
        "train_data= normalize(train_data, axis=1, norm='l1')\n",
        "test_data= normalize(test_data, axis=1, norm='l1')\n",
        "filtered_data = normalize(filtered_data, axis=1, norm='l1')"
      ]
    },
    {
      "cell_type": "code",
      "execution_count": null,
      "metadata": {
        "colab": {
          "base_uri": "https://localhost:8080/"
        },
        "id": "XSV8ItllJ2nM",
        "outputId": "8f375444-af5b-4a38-8e5d-5d4142db7038"
      },
      "outputs": [
        {
          "data": {
            "text/plain": [
              "array([4.27737348e-02, 3.27286660e-03, 2.19165177e-05, 7.30550573e-06,\n",
              "       3.14136734e-04, 4.38330353e-05, 2.26470685e-04, 4.38330353e-05,\n",
              "       1.04712250e-04, 1.05445892e-04, 4.38330353e-05, 4.38330353e-05,\n",
              "       4.38330353e-05, 0.00000000e+00, 7.99039662e-01, 6.52277321e-02,\n",
              "       1.09095545e-03, 1.35910558e-03, 2.62267655e-03, 2.92220229e-05,\n",
              "       2.65189866e-03, 1.32594933e-03, 1.83384924e-03, 2.62267655e-03,\n",
              "       2.92220229e-05, 0.00000000e+00, 0.00000000e+00, 0.00000000e+00,\n",
              "       0.00000000e+00, 0.00000000e+00, 0.00000000e+00, 0.00000000e+00,\n",
              "       0.00000000e+00, 0.00000000e+00, 4.38330346e-04, 1.46110120e-04,\n",
              "       4.89207990e-02, 1.63069330e-02, 4.38330353e-05, 2.26470685e-04,\n",
              "       8.03605653e-05, 8.16780375e-05, 9.13188211e-04, 0.00000000e+00,\n",
              "       0.00000000e+00, 0.00000000e+00, 0.00000000e+00, 7.30550573e-06,\n",
              "       0.00000000e+00, 0.00000000e+00, 0.00000000e+00, 0.00000000e+00,\n",
              "       1.00450707e-04, 1.04712250e-04, 4.38330353e-05, 0.00000000e+00,\n",
              "       0.00000000e+00, 0.00000000e+00, 0.00000000e+00, 0.00000000e+00,\n",
              "       0.00000000e+00, 2.19165177e-05, 3.14136734e-04, 7.30550573e-06,\n",
              "       4.38330353e-05, 7.15939561e-03, 0.00000000e+00, 1.46110115e-05,\n",
              "       1.46110120e-04, 0.00000000e+00, 0.00000000e+00, 0.00000000e+00,\n",
              "       0.00000000e+00, 0.00000000e+00, 0.00000000e+00, 0.00000000e+00,\n",
              "       0.00000000e+00], dtype=float32)"
            ]
          },
          "execution_count": 12,
          "metadata": {},
          "output_type": "execute_result"
        }
      ],
      "source": [
        "train_data[0]"
      ]
    },
    {
      "cell_type": "code",
      "execution_count": null,
      "metadata": {
        "id": "Swb67TGhJ2nM"
      },
      "outputs": [],
      "source": [
        "#reshape data to 3D (потому что в основе и первым слоем идет сверточная нейронная сеть (она работает с фото))\n",
        "train_data=train_data.reshape(train_data.shape[0],train_data.shape[1])\n",
        "test_data=test_data.reshape(test_data.shape[0],test_data.shape[1])\n",
        "filtered_data = filtered_data.reshape(filtered_data.shape[0], filtered_data.shape[1])"
      ]
    },
    {
      "cell_type": "code",
      "execution_count": null,
      "metadata": {
        "colab": {
          "base_uri": "https://localhost:8080/"
        },
        "id": "VmaGK2CgJ2nM",
        "outputId": "673be4d2-56ba-4015-b43a-3b75e8a5afdb"
      },
      "outputs": [
        {
          "name": "stderr",
          "output_type": "stream",
          "text": [
            "/usr/local/lib/python3.10/dist-packages/sklearn/feature_selection/_univariate_selection.py:112: UserWarning: Features [31 33 55 56 57 58 59 60] are constant.\n",
            "  warnings.warn(\"Features %s are constant.\" % constant_features_idx, UserWarning)\n",
            "/usr/local/lib/python3.10/dist-packages/sklearn/feature_selection/_univariate_selection.py:113: RuntimeWarning: invalid value encountered in divide\n",
            "  f = msb / msw\n"
          ]
        },
        {
          "name": "stdout",
          "output_type": "stream",
          "text": [
            "(232443, 77)\n"
          ]
        }
      ],
      "source": [
        "\n",
        "#feature selection\n",
        "test = SelectKBest(score_func=f_classif, k=77)\n",
        "fit = test.fit(train_data, pdtrain_Label)\n",
        "np.set_printoptions(precision=3)\n",
        "# print(fit.scores_)\n",
        "\n",
        "train_data = fit.transform(train_data)\n",
        "# features = fit.transform(train_data)\n",
        "\n",
        "# Summarize selected features\n",
        "\n",
        "# train_data = features\n",
        "print(test_data.shape)\n",
        "test_data = fit.transform(test_data)\n",
        "\n",
        "filtered_data = fit.transform(filtered_data)"
      ]
    },
    {
      "cell_type": "code",
      "execution_count": null,
      "metadata": {
        "id": "Kd7hLKgVLUhu"
      },
      "outputs": [],
      "source": [
        "# подготовка и нормализация данных, что бы на этом можно было обучать нейронную сеть\n",
        "\n",
        "label_encoder = LabelEncoder()\n",
        "#convert string labels to int values to be able to classify them\n",
        "trainVec = label_encoder.fit_transform(pdtrain_Label)\n",
        "testVec = label_encoder.fit_transform(pdtest_label)\n",
        "\n",
        "\n",
        "#categorize labels\n",
        "train_labels = keras.utils.to_categorical(trainVec)\n",
        "test_labels = keras.utils.to_categorical(testVec)"
      ]
    },
    {
      "cell_type": "code",
      "execution_count": null,
      "metadata": {
        "colab": {
          "base_uri": "https://localhost:8080/"
        },
        "id": "c88p3cN3J2nN",
        "outputId": "22d72ab0-763a-49dc-c491-74b79b14fd71"
      },
      "outputs": [
        {
          "name": "stdout",
          "output_type": "stream",
          "text": [
            "(929770, 77, 1)\n"
          ]
        }
      ],
      "source": [
        "# reshape data to 3D (потому что в основе и первым слоем идет сверточная нейронная сеть (она работает с фото))\n",
        "train_data=train_data.reshape(train_data.shape[0],train_data.shape[1],1)\n",
        "test_data=test_data.reshape(test_data.shape[0],test_data.shape[1],1)\n",
        "filtered_data = filtered_data.reshape(filtered_data.shape[0], filtered_data.shape[1],1)\n",
        "print(train_data.shape)"
      ]
    },
    {
      "cell_type": "code",
      "execution_count": null,
      "metadata": {
        "colab": {
          "base_uri": "https://localhost:8080/"
        },
        "id": "RDpudnYkJ2nN",
        "outputId": "bc726cb4-a2a9-4c18-d5ad-ed237c2eb2db"
      },
      "outputs": [
        {
          "data": {
            "text/plain": [
              "(929770, 77, 1)"
            ]
          },
          "execution_count": 17,
          "metadata": {},
          "output_type": "execute_result"
        }
      ],
      "source": [
        "train_data.shape"
      ]
    },
    {
      "cell_type": "markdown",
      "metadata": {
        "id": "_LqcSHmifO8R"
      },
      "source": [
        "# Настройка модели"
      ]
    },
    {
      "cell_type": "code",
      "execution_count": null,
      "metadata": {
        "id": "WgaB3ISAfO8R"
      },
      "outputs": [],
      "source": [
        "# prepare  Model\n",
        "model = Sequential()\n",
        "\n",
        "initializer = keras.initializers.LecunUniform()\n",
        "\n",
        "model.add(Dense(77,kernel_initializer=initializer,activation='relu'))\n",
        "# model.add(Conv1D(100, 20, activation='relu'))\n",
        "model.add(Conv1D(60, 10, activation='relu'))\n",
        "model.add(MaxPooling1D())\n",
        "model.add(Dropout(0.2))\n",
        "# Flatten the results to one dimension for passing into our next layer\n",
        "model.add(Flatten())\n",
        "model.add(Dense(120,kernel_initializer=initializer,activation='relu'))\n",
        "model.add(Dropout(0.2))\n",
        "model.add(Dense(80,kernel_initializer=initializer,activation='relu'))\n",
        "model.add(Dropout(0.2))\n",
        "model.add(Dense(40,kernel_initializer=initializer,activation='relu'))\n",
        "model.add(Dropout(0.2))\n",
        "# model.add(Dense(60,kernel_initializer=initializer,activation='relu'))\n",
        "# model.add(Dropout(0.2))\n",
        "# model.add(Dense(60,kernel_initializer=initializer,activation='relu'))\n",
        "# model.add(Dropout(0.2))\n",
        "# model.add(Dense(40,kernel_initializer=initializer,activation='relu'))\n",
        "# model.add(Dropout(0.2))\n",
        "initializer = keras.initializers.GlorotNormal()\n",
        "\n",
        "model.add(Dense(8, activation='sigmoid',kernel_initializer=initializer))\n",
        "# In[33]:\n",
        "\n",
        "\n",
        "#opt = RMSprop(lr = 0.008, momentum=0.9)\n",
        "opt = keras.optimizers.Adam(learning_rate=0.0005)\n",
        "# opt = keras.optimizers.Adam(learning_rate=0.005)\n",
        "# opt = SGD(lr=0.05,momentum=0.9)\n",
        "model.compile(loss='categorical_crossentropy',\n",
        "              optimizer=opt,\n",
        "              metrics=['accuracy'])\n",
        "\n"
      ]
    },
    {
      "cell_type": "code",
      "execution_count": null,
      "metadata": {
        "colab": {
          "base_uri": "https://localhost:8080/",
          "height": 1000
        },
        "id": "lAbaBr4_fO8S",
        "outputId": "5ca81e01-7c41-41ae-d295-7cab22f92f81"
      },
      "outputs": [
        {
          "name": "stdout",
          "output_type": "stream",
          "text": [
            "(929770, 77, 1)\n",
            "(929770, 8)\n",
            "(232443, 77, 1)\n",
            "(232443, 8)\n",
            "Epoch 1/100\n",
            "310/310 [==============================] - 655s 2s/step - loss: 0.1023 - accuracy: 0.9574 - val_loss: 0.0871 - val_accuracy: 0.9600\n",
            "Epoch 2/100\n",
            "310/310 [==============================] - 610s 2s/step - loss: 0.0972 - accuracy: 0.9588 - val_loss: 0.0840 - val_accuracy: 0.9623\n",
            "Epoch 3/100\n",
            "310/310 [==============================] - 645s 2s/step - loss: 0.0925 - accuracy: 0.9603 - val_loss: 0.0795 - val_accuracy: 0.9623\n",
            "Epoch 4/100\n",
            "310/310 [==============================] - 649s 2s/step - loss: 0.0876 - accuracy: 0.9622 - val_loss: 0.0741 - val_accuracy: 0.9663\n",
            "Epoch 5/100\n",
            "310/310 [==============================] - 655s 2s/step - loss: 0.0825 - accuracy: 0.9640 - val_loss: 0.0677 - val_accuracy: 0.9684\n",
            "Epoch 6/100\n",
            "310/310 [==============================] - 610s 2s/step - loss: 0.0769 - accuracy: 0.9665 - val_loss: 0.0599 - val_accuracy: 0.9746\n",
            "Epoch 7/100\n",
            "310/310 [==============================] - 606s 2s/step - loss: 0.0647 - accuracy: 0.9748 - val_loss: 0.0430 - val_accuracy: 0.9860\n",
            "Epoch 8/100\n",
            "310/310 [==============================] - 653s 2s/step - loss: 0.0492 - accuracy: 0.9843 - val_loss: 0.0324 - val_accuracy: 0.9891\n",
            "Epoch 9/100\n",
            "310/310 [==============================] - 720s 2s/step - loss: 0.0411 - accuracy: 0.9875 - val_loss: 0.0318 - val_accuracy: 0.9902\n",
            "Epoch 10/100\n",
            "310/310 [==============================] - 692s 2s/step - loss: 0.0364 - accuracy: 0.9891 - val_loss: 0.0273 - val_accuracy: 0.9908\n",
            "Epoch 11/100\n",
            "310/310 [==============================] - 642s 2s/step - loss: 0.0325 - accuracy: 0.9905 - val_loss: 0.0225 - val_accuracy: 0.9935\n",
            "Epoch 12/100\n",
            "310/310 [==============================] - 644s 2s/step - loss: 0.0299 - accuracy: 0.9914 - val_loss: 0.0217 - val_accuracy: 0.9945\n",
            "Epoch 13/100\n",
            "310/310 [==============================] - 643s 2s/step - loss: 0.0281 - accuracy: 0.9920 - val_loss: 0.0193 - val_accuracy: 0.9946\n",
            "Epoch 14/100\n",
            "310/310 [==============================] - 605s 2s/step - loss: 0.0270 - accuracy: 0.9923 - val_loss: 0.0185 - val_accuracy: 0.9949\n",
            "Epoch 15/100\n",
            "310/310 [==============================] - 649s 2s/step - loss: 0.0256 - accuracy: 0.9928 - val_loss: 0.0177 - val_accuracy: 0.9951\n",
            "Epoch 16/100\n",
            "310/310 [==============================] - 651s 2s/step - loss: 0.0243 - accuracy: 0.9932 - val_loss: 0.0191 - val_accuracy: 0.9943\n",
            "Epoch 17/100\n",
            "310/310 [==============================] - 605s 2s/step - loss: 0.0234 - accuracy: 0.9935 - val_loss: 0.0183 - val_accuracy: 0.9946\n",
            "Epoch 18/100\n",
            "310/310 [==============================] - 651s 2s/step - loss: 0.0221 - accuracy: 0.9939 - val_loss: 0.0180 - val_accuracy: 0.9946\n",
            "Epoch 19/100\n",
            "310/310 [==============================] - 672s 2s/step - loss: 0.0222 - accuracy: 0.9938 - val_loss: 0.0183 - val_accuracy: 0.9945\n",
            "Epoch 20/100\n",
            "310/310 [==============================] - 632s 2s/step - loss: 0.0211 - accuracy: 0.9941 - val_loss: 0.0165 - val_accuracy: 0.9952\n",
            "Epoch 21/100\n",
            "310/310 [==============================] - 603s 2s/step - loss: 0.0209 - accuracy: 0.9941 - val_loss: 0.0164 - val_accuracy: 0.9953\n",
            "Epoch 22/100\n",
            "310/310 [==============================] - 609s 2s/step - loss: 0.0203 - accuracy: 0.9944 - val_loss: 0.0152 - val_accuracy: 0.9956\n",
            "Epoch 23/100\n",
            "310/310 [==============================] - 687s 2s/step - loss: 0.0200 - accuracy: 0.9944 - val_loss: 0.0149 - val_accuracy: 0.9957\n",
            "Epoch 24/100\n",
            "310/310 [==============================] - 614s 2s/step - loss: 0.0195 - accuracy: 0.9945 - val_loss: 0.0154 - val_accuracy: 0.9956\n",
            "Epoch 25/100\n",
            "310/310 [==============================] - 653s 2s/step - loss: 0.0190 - accuracy: 0.9946 - val_loss: 0.0149 - val_accuracy: 0.9957\n",
            "Epoch 26/100\n",
            "301/310 [============================>.] - ETA: 16s - loss: 0.0190 - accuracy: 0.9947"
          ]
        },
        {
          "ename": "KeyboardInterrupt",
          "evalue": "",
          "output_type": "error",
          "traceback": [
            "\u001b[0;31m---------------------------------------------------------------------------\u001b[0m",
            "\u001b[0;31mKeyboardInterrupt\u001b[0m                         Traceback (most recent call last)",
            "\u001b[0;32m<ipython-input-21-cbbb695f12e3>\u001b[0m in \u001b[0;36m<cell line: 7>\u001b[0;34m()\u001b[0m\n\u001b[1;32m      5\u001b[0m \u001b[0mprint\u001b[0m\u001b[0;34m(\u001b[0m\u001b[0mtest_labels\u001b[0m\u001b[0;34m.\u001b[0m\u001b[0mshape\u001b[0m\u001b[0;34m)\u001b[0m\u001b[0;34m\u001b[0m\u001b[0;34m\u001b[0m\u001b[0m\n\u001b[1;32m      6\u001b[0m \u001b[0mmodel\u001b[0m \u001b[0;34m=\u001b[0m \u001b[0mkeras\u001b[0m\u001b[0;34m.\u001b[0m\u001b[0mmodels\u001b[0m\u001b[0;34m.\u001b[0m\u001b[0mload_model\u001b[0m\u001b[0;34m(\u001b[0m\u001b[0;34m'/content/drive/MyDrive/dudos/models/EIDM_8_4_classes.keras'\u001b[0m\u001b[0;34m)\u001b[0m\u001b[0;34m\u001b[0m\u001b[0;34m\u001b[0m\u001b[0m\n\u001b[0;32m----> 7\u001b[0;31m history = model.fit(train_data, train_labels,\n\u001b[0m\u001b[1;32m      8\u001b[0m                     \u001b[0mbatch_size\u001b[0m\u001b[0;34m=\u001b[0m\u001b[0;36m3000\u001b[0m\u001b[0;34m,\u001b[0m\u001b[0;34m\u001b[0m\u001b[0;34m\u001b[0m\u001b[0m\n\u001b[1;32m      9\u001b[0m                     \u001b[0mepochs\u001b[0m\u001b[0;34m=\u001b[0m\u001b[0;36m100\u001b[0m\u001b[0;34m,\u001b[0m\u001b[0;34m\u001b[0m\u001b[0;34m\u001b[0m\u001b[0m\n",
            "\u001b[0;32m/usr/local/lib/python3.10/dist-packages/keras/src/utils/traceback_utils.py\u001b[0m in \u001b[0;36merror_handler\u001b[0;34m(*args, **kwargs)\u001b[0m\n\u001b[1;32m     63\u001b[0m         \u001b[0mfiltered_tb\u001b[0m \u001b[0;34m=\u001b[0m \u001b[0;32mNone\u001b[0m\u001b[0;34m\u001b[0m\u001b[0;34m\u001b[0m\u001b[0m\n\u001b[1;32m     64\u001b[0m         \u001b[0;32mtry\u001b[0m\u001b[0;34m:\u001b[0m\u001b[0;34m\u001b[0m\u001b[0;34m\u001b[0m\u001b[0m\n\u001b[0;32m---> 65\u001b[0;31m             \u001b[0;32mreturn\u001b[0m \u001b[0mfn\u001b[0m\u001b[0;34m(\u001b[0m\u001b[0;34m*\u001b[0m\u001b[0margs\u001b[0m\u001b[0;34m,\u001b[0m \u001b[0;34m**\u001b[0m\u001b[0mkwargs\u001b[0m\u001b[0;34m)\u001b[0m\u001b[0;34m\u001b[0m\u001b[0;34m\u001b[0m\u001b[0m\n\u001b[0m\u001b[1;32m     66\u001b[0m         \u001b[0;32mexcept\u001b[0m \u001b[0mException\u001b[0m \u001b[0;32mas\u001b[0m \u001b[0me\u001b[0m\u001b[0;34m:\u001b[0m\u001b[0;34m\u001b[0m\u001b[0;34m\u001b[0m\u001b[0m\n\u001b[1;32m     67\u001b[0m             \u001b[0mfiltered_tb\u001b[0m \u001b[0;34m=\u001b[0m \u001b[0m_process_traceback_frames\u001b[0m\u001b[0;34m(\u001b[0m\u001b[0me\u001b[0m\u001b[0;34m.\u001b[0m\u001b[0m__traceback__\u001b[0m\u001b[0;34m)\u001b[0m\u001b[0;34m\u001b[0m\u001b[0;34m\u001b[0m\u001b[0m\n",
            "\u001b[0;32m/usr/local/lib/python3.10/dist-packages/keras/src/engine/training.py\u001b[0m in \u001b[0;36mfit\u001b[0;34m(self, x, y, batch_size, epochs, verbose, callbacks, validation_split, validation_data, shuffle, class_weight, sample_weight, initial_epoch, steps_per_epoch, validation_steps, validation_batch_size, validation_freq, max_queue_size, workers, use_multiprocessing)\u001b[0m\n\u001b[1;32m   1805\u001b[0m                         ):\n\u001b[1;32m   1806\u001b[0m                             \u001b[0mcallbacks\u001b[0m\u001b[0;34m.\u001b[0m\u001b[0mon_train_batch_begin\u001b[0m\u001b[0;34m(\u001b[0m\u001b[0mstep\u001b[0m\u001b[0;34m)\u001b[0m\u001b[0;34m\u001b[0m\u001b[0;34m\u001b[0m\u001b[0m\n\u001b[0;32m-> 1807\u001b[0;31m                             \u001b[0mtmp_logs\u001b[0m \u001b[0;34m=\u001b[0m \u001b[0mself\u001b[0m\u001b[0;34m.\u001b[0m\u001b[0mtrain_function\u001b[0m\u001b[0;34m(\u001b[0m\u001b[0miterator\u001b[0m\u001b[0;34m)\u001b[0m\u001b[0;34m\u001b[0m\u001b[0;34m\u001b[0m\u001b[0m\n\u001b[0m\u001b[1;32m   1808\u001b[0m                             \u001b[0;32mif\u001b[0m \u001b[0mdata_handler\u001b[0m\u001b[0;34m.\u001b[0m\u001b[0mshould_sync\u001b[0m\u001b[0;34m:\u001b[0m\u001b[0;34m\u001b[0m\u001b[0;34m\u001b[0m\u001b[0m\n\u001b[1;32m   1809\u001b[0m                                 \u001b[0mcontext\u001b[0m\u001b[0;34m.\u001b[0m\u001b[0masync_wait\u001b[0m\u001b[0;34m(\u001b[0m\u001b[0;34m)\u001b[0m\u001b[0;34m\u001b[0m\u001b[0;34m\u001b[0m\u001b[0m\n",
            "\u001b[0;32m/usr/local/lib/python3.10/dist-packages/tensorflow/python/util/traceback_utils.py\u001b[0m in \u001b[0;36merror_handler\u001b[0;34m(*args, **kwargs)\u001b[0m\n\u001b[1;32m    148\u001b[0m     \u001b[0mfiltered_tb\u001b[0m \u001b[0;34m=\u001b[0m \u001b[0;32mNone\u001b[0m\u001b[0;34m\u001b[0m\u001b[0;34m\u001b[0m\u001b[0m\n\u001b[1;32m    149\u001b[0m     \u001b[0;32mtry\u001b[0m\u001b[0;34m:\u001b[0m\u001b[0;34m\u001b[0m\u001b[0;34m\u001b[0m\u001b[0m\n\u001b[0;32m--> 150\u001b[0;31m       \u001b[0;32mreturn\u001b[0m \u001b[0mfn\u001b[0m\u001b[0;34m(\u001b[0m\u001b[0;34m*\u001b[0m\u001b[0margs\u001b[0m\u001b[0;34m,\u001b[0m \u001b[0;34m**\u001b[0m\u001b[0mkwargs\u001b[0m\u001b[0;34m)\u001b[0m\u001b[0;34m\u001b[0m\u001b[0;34m\u001b[0m\u001b[0m\n\u001b[0m\u001b[1;32m    151\u001b[0m     \u001b[0;32mexcept\u001b[0m \u001b[0mException\u001b[0m \u001b[0;32mas\u001b[0m \u001b[0me\u001b[0m\u001b[0;34m:\u001b[0m\u001b[0;34m\u001b[0m\u001b[0;34m\u001b[0m\u001b[0m\n\u001b[1;32m    152\u001b[0m       \u001b[0mfiltered_tb\u001b[0m \u001b[0;34m=\u001b[0m \u001b[0m_process_traceback_frames\u001b[0m\u001b[0;34m(\u001b[0m\u001b[0me\u001b[0m\u001b[0;34m.\u001b[0m\u001b[0m__traceback__\u001b[0m\u001b[0;34m)\u001b[0m\u001b[0;34m\u001b[0m\u001b[0;34m\u001b[0m\u001b[0m\n",
            "\u001b[0;32m/usr/local/lib/python3.10/dist-packages/tensorflow/python/eager/polymorphic_function/polymorphic_function.py\u001b[0m in \u001b[0;36m__call__\u001b[0;34m(self, *args, **kwds)\u001b[0m\n\u001b[1;32m    830\u001b[0m \u001b[0;34m\u001b[0m\u001b[0m\n\u001b[1;32m    831\u001b[0m       \u001b[0;32mwith\u001b[0m \u001b[0mOptionalXlaContext\u001b[0m\u001b[0;34m(\u001b[0m\u001b[0mself\u001b[0m\u001b[0;34m.\u001b[0m\u001b[0m_jit_compile\u001b[0m\u001b[0;34m)\u001b[0m\u001b[0;34m:\u001b[0m\u001b[0;34m\u001b[0m\u001b[0;34m\u001b[0m\u001b[0m\n\u001b[0;32m--> 832\u001b[0;31m         \u001b[0mresult\u001b[0m \u001b[0;34m=\u001b[0m \u001b[0mself\u001b[0m\u001b[0;34m.\u001b[0m\u001b[0m_call\u001b[0m\u001b[0;34m(\u001b[0m\u001b[0;34m*\u001b[0m\u001b[0margs\u001b[0m\u001b[0;34m,\u001b[0m \u001b[0;34m**\u001b[0m\u001b[0mkwds\u001b[0m\u001b[0;34m)\u001b[0m\u001b[0;34m\u001b[0m\u001b[0;34m\u001b[0m\u001b[0m\n\u001b[0m\u001b[1;32m    833\u001b[0m \u001b[0;34m\u001b[0m\u001b[0m\n\u001b[1;32m    834\u001b[0m       \u001b[0mnew_tracing_count\u001b[0m \u001b[0;34m=\u001b[0m \u001b[0mself\u001b[0m\u001b[0;34m.\u001b[0m\u001b[0mexperimental_get_tracing_count\u001b[0m\u001b[0;34m(\u001b[0m\u001b[0;34m)\u001b[0m\u001b[0;34m\u001b[0m\u001b[0;34m\u001b[0m\u001b[0m\n",
            "\u001b[0;32m/usr/local/lib/python3.10/dist-packages/tensorflow/python/eager/polymorphic_function/polymorphic_function.py\u001b[0m in \u001b[0;36m_call\u001b[0;34m(self, *args, **kwds)\u001b[0m\n\u001b[1;32m    866\u001b[0m       \u001b[0;31m# In this case we have created variables on the first call, so we run the\u001b[0m\u001b[0;34m\u001b[0m\u001b[0;34m\u001b[0m\u001b[0m\n\u001b[1;32m    867\u001b[0m       \u001b[0;31m# defunned version which is guaranteed to never create variables.\u001b[0m\u001b[0;34m\u001b[0m\u001b[0;34m\u001b[0m\u001b[0m\n\u001b[0;32m--> 868\u001b[0;31m       return tracing_compilation.call_function(\n\u001b[0m\u001b[1;32m    869\u001b[0m           \u001b[0margs\u001b[0m\u001b[0;34m,\u001b[0m \u001b[0mkwds\u001b[0m\u001b[0;34m,\u001b[0m \u001b[0mself\u001b[0m\u001b[0;34m.\u001b[0m\u001b[0m_no_variable_creation_config\u001b[0m\u001b[0;34m\u001b[0m\u001b[0;34m\u001b[0m\u001b[0m\n\u001b[1;32m    870\u001b[0m       )\n",
            "\u001b[0;32m/usr/local/lib/python3.10/dist-packages/tensorflow/python/eager/polymorphic_function/tracing_compilation.py\u001b[0m in \u001b[0;36mcall_function\u001b[0;34m(args, kwargs, tracing_options)\u001b[0m\n\u001b[1;32m    137\u001b[0m   \u001b[0mbound_args\u001b[0m \u001b[0;34m=\u001b[0m \u001b[0mfunction\u001b[0m\u001b[0;34m.\u001b[0m\u001b[0mfunction_type\u001b[0m\u001b[0;34m.\u001b[0m\u001b[0mbind\u001b[0m\u001b[0;34m(\u001b[0m\u001b[0;34m*\u001b[0m\u001b[0margs\u001b[0m\u001b[0;34m,\u001b[0m \u001b[0;34m**\u001b[0m\u001b[0mkwargs\u001b[0m\u001b[0;34m)\u001b[0m\u001b[0;34m\u001b[0m\u001b[0;34m\u001b[0m\u001b[0m\n\u001b[1;32m    138\u001b[0m   \u001b[0mflat_inputs\u001b[0m \u001b[0;34m=\u001b[0m \u001b[0mfunction\u001b[0m\u001b[0;34m.\u001b[0m\u001b[0mfunction_type\u001b[0m\u001b[0;34m.\u001b[0m\u001b[0munpack_inputs\u001b[0m\u001b[0;34m(\u001b[0m\u001b[0mbound_args\u001b[0m\u001b[0;34m)\u001b[0m\u001b[0;34m\u001b[0m\u001b[0;34m\u001b[0m\u001b[0m\n\u001b[0;32m--> 139\u001b[0;31m   return function._call_flat(  # pylint: disable=protected-access\n\u001b[0m\u001b[1;32m    140\u001b[0m       \u001b[0mflat_inputs\u001b[0m\u001b[0;34m,\u001b[0m \u001b[0mcaptured_inputs\u001b[0m\u001b[0;34m=\u001b[0m\u001b[0mfunction\u001b[0m\u001b[0;34m.\u001b[0m\u001b[0mcaptured_inputs\u001b[0m\u001b[0;34m\u001b[0m\u001b[0;34m\u001b[0m\u001b[0m\n\u001b[1;32m    141\u001b[0m   )\n",
            "\u001b[0;32m/usr/local/lib/python3.10/dist-packages/tensorflow/python/eager/polymorphic_function/concrete_function.py\u001b[0m in \u001b[0;36m_call_flat\u001b[0;34m(self, tensor_inputs, captured_inputs)\u001b[0m\n\u001b[1;32m   1321\u001b[0m         and executing_eagerly):\n\u001b[1;32m   1322\u001b[0m       \u001b[0;31m# No tape is watching; skip to running the function.\u001b[0m\u001b[0;34m\u001b[0m\u001b[0;34m\u001b[0m\u001b[0m\n\u001b[0;32m-> 1323\u001b[0;31m       \u001b[0;32mreturn\u001b[0m \u001b[0mself\u001b[0m\u001b[0;34m.\u001b[0m\u001b[0m_inference_function\u001b[0m\u001b[0;34m.\u001b[0m\u001b[0mcall_preflattened\u001b[0m\u001b[0;34m(\u001b[0m\u001b[0margs\u001b[0m\u001b[0;34m)\u001b[0m\u001b[0;34m\u001b[0m\u001b[0;34m\u001b[0m\u001b[0m\n\u001b[0m\u001b[1;32m   1324\u001b[0m     forward_backward = self._select_forward_and_backward_functions(\n\u001b[1;32m   1325\u001b[0m         \u001b[0margs\u001b[0m\u001b[0;34m,\u001b[0m\u001b[0;34m\u001b[0m\u001b[0;34m\u001b[0m\u001b[0m\n",
            "\u001b[0;32m/usr/local/lib/python3.10/dist-packages/tensorflow/python/eager/polymorphic_function/atomic_function.py\u001b[0m in \u001b[0;36mcall_preflattened\u001b[0;34m(self, args)\u001b[0m\n\u001b[1;32m    214\u001b[0m   \u001b[0;32mdef\u001b[0m \u001b[0mcall_preflattened\u001b[0m\u001b[0;34m(\u001b[0m\u001b[0mself\u001b[0m\u001b[0;34m,\u001b[0m \u001b[0margs\u001b[0m\u001b[0;34m:\u001b[0m \u001b[0mSequence\u001b[0m\u001b[0;34m[\u001b[0m\u001b[0mcore\u001b[0m\u001b[0;34m.\u001b[0m\u001b[0mTensor\u001b[0m\u001b[0;34m]\u001b[0m\u001b[0;34m)\u001b[0m \u001b[0;34m->\u001b[0m \u001b[0mAny\u001b[0m\u001b[0;34m:\u001b[0m\u001b[0;34m\u001b[0m\u001b[0;34m\u001b[0m\u001b[0m\n\u001b[1;32m    215\u001b[0m     \u001b[0;34m\"\"\"Calls with flattened tensor inputs and returns the structured output.\"\"\"\u001b[0m\u001b[0;34m\u001b[0m\u001b[0;34m\u001b[0m\u001b[0m\n\u001b[0;32m--> 216\u001b[0;31m     \u001b[0mflat_outputs\u001b[0m \u001b[0;34m=\u001b[0m \u001b[0mself\u001b[0m\u001b[0;34m.\u001b[0m\u001b[0mcall_flat\u001b[0m\u001b[0;34m(\u001b[0m\u001b[0;34m*\u001b[0m\u001b[0margs\u001b[0m\u001b[0;34m)\u001b[0m\u001b[0;34m\u001b[0m\u001b[0;34m\u001b[0m\u001b[0m\n\u001b[0m\u001b[1;32m    217\u001b[0m     \u001b[0;32mreturn\u001b[0m \u001b[0mself\u001b[0m\u001b[0;34m.\u001b[0m\u001b[0mfunction_type\u001b[0m\u001b[0;34m.\u001b[0m\u001b[0mpack_output\u001b[0m\u001b[0;34m(\u001b[0m\u001b[0mflat_outputs\u001b[0m\u001b[0;34m)\u001b[0m\u001b[0;34m\u001b[0m\u001b[0;34m\u001b[0m\u001b[0m\n\u001b[1;32m    218\u001b[0m \u001b[0;34m\u001b[0m\u001b[0m\n",
            "\u001b[0;32m/usr/local/lib/python3.10/dist-packages/tensorflow/python/eager/polymorphic_function/atomic_function.py\u001b[0m in \u001b[0;36mcall_flat\u001b[0;34m(self, *args)\u001b[0m\n\u001b[1;32m    249\u001b[0m         \u001b[0;32mwith\u001b[0m \u001b[0mrecord\u001b[0m\u001b[0;34m.\u001b[0m\u001b[0mstop_recording\u001b[0m\u001b[0;34m(\u001b[0m\u001b[0;34m)\u001b[0m\u001b[0;34m:\u001b[0m\u001b[0;34m\u001b[0m\u001b[0;34m\u001b[0m\u001b[0m\n\u001b[1;32m    250\u001b[0m           \u001b[0;32mif\u001b[0m \u001b[0mself\u001b[0m\u001b[0;34m.\u001b[0m\u001b[0m_bound_context\u001b[0m\u001b[0;34m.\u001b[0m\u001b[0mexecuting_eagerly\u001b[0m\u001b[0;34m(\u001b[0m\u001b[0;34m)\u001b[0m\u001b[0;34m:\u001b[0m\u001b[0;34m\u001b[0m\u001b[0;34m\u001b[0m\u001b[0m\n\u001b[0;32m--> 251\u001b[0;31m             outputs = self._bound_context.call_function(\n\u001b[0m\u001b[1;32m    252\u001b[0m                 \u001b[0mself\u001b[0m\u001b[0;34m.\u001b[0m\u001b[0mname\u001b[0m\u001b[0;34m,\u001b[0m\u001b[0;34m\u001b[0m\u001b[0;34m\u001b[0m\u001b[0m\n\u001b[1;32m    253\u001b[0m                 \u001b[0mlist\u001b[0m\u001b[0;34m(\u001b[0m\u001b[0margs\u001b[0m\u001b[0;34m)\u001b[0m\u001b[0;34m,\u001b[0m\u001b[0;34m\u001b[0m\u001b[0;34m\u001b[0m\u001b[0m\n",
            "\u001b[0;32m/usr/local/lib/python3.10/dist-packages/tensorflow/python/eager/context.py\u001b[0m in \u001b[0;36mcall_function\u001b[0;34m(self, name, tensor_inputs, num_outputs)\u001b[0m\n\u001b[1;32m   1484\u001b[0m     \u001b[0mcancellation_context\u001b[0m \u001b[0;34m=\u001b[0m \u001b[0mcancellation\u001b[0m\u001b[0;34m.\u001b[0m\u001b[0mcontext\u001b[0m\u001b[0;34m(\u001b[0m\u001b[0;34m)\u001b[0m\u001b[0;34m\u001b[0m\u001b[0;34m\u001b[0m\u001b[0m\n\u001b[1;32m   1485\u001b[0m     \u001b[0;32mif\u001b[0m \u001b[0mcancellation_context\u001b[0m \u001b[0;32mis\u001b[0m \u001b[0;32mNone\u001b[0m\u001b[0;34m:\u001b[0m\u001b[0;34m\u001b[0m\u001b[0;34m\u001b[0m\u001b[0m\n\u001b[0;32m-> 1486\u001b[0;31m       outputs = execute.execute(\n\u001b[0m\u001b[1;32m   1487\u001b[0m           \u001b[0mname\u001b[0m\u001b[0;34m.\u001b[0m\u001b[0mdecode\u001b[0m\u001b[0;34m(\u001b[0m\u001b[0;34m\"utf-8\"\u001b[0m\u001b[0;34m)\u001b[0m\u001b[0;34m,\u001b[0m\u001b[0;34m\u001b[0m\u001b[0;34m\u001b[0m\u001b[0m\n\u001b[1;32m   1488\u001b[0m           \u001b[0mnum_outputs\u001b[0m\u001b[0;34m=\u001b[0m\u001b[0mnum_outputs\u001b[0m\u001b[0;34m,\u001b[0m\u001b[0;34m\u001b[0m\u001b[0;34m\u001b[0m\u001b[0m\n",
            "\u001b[0;32m/usr/local/lib/python3.10/dist-packages/tensorflow/python/eager/execute.py\u001b[0m in \u001b[0;36mquick_execute\u001b[0;34m(op_name, num_outputs, inputs, attrs, ctx, name)\u001b[0m\n\u001b[1;32m     51\u001b[0m   \u001b[0;32mtry\u001b[0m\u001b[0;34m:\u001b[0m\u001b[0;34m\u001b[0m\u001b[0;34m\u001b[0m\u001b[0m\n\u001b[1;32m     52\u001b[0m     \u001b[0mctx\u001b[0m\u001b[0;34m.\u001b[0m\u001b[0mensure_initialized\u001b[0m\u001b[0;34m(\u001b[0m\u001b[0;34m)\u001b[0m\u001b[0;34m\u001b[0m\u001b[0;34m\u001b[0m\u001b[0m\n\u001b[0;32m---> 53\u001b[0;31m     tensors = pywrap_tfe.TFE_Py_Execute(ctx._handle, device_name, op_name,\n\u001b[0m\u001b[1;32m     54\u001b[0m                                         inputs, attrs, num_outputs)\n\u001b[1;32m     55\u001b[0m   \u001b[0;32mexcept\u001b[0m \u001b[0mcore\u001b[0m\u001b[0;34m.\u001b[0m\u001b[0m_NotOkStatusException\u001b[0m \u001b[0;32mas\u001b[0m \u001b[0me\u001b[0m\u001b[0;34m:\u001b[0m\u001b[0;34m\u001b[0m\u001b[0;34m\u001b[0m\u001b[0m\n",
            "\u001b[0;31mKeyboardInterrupt\u001b[0m: "
          ]
        }
      ],
      "source": [
        "\n",
        "print(train_data.shape)\n",
        "print(train_labels.shape)\n",
        "\n",
        "print(test_data.shape)\n",
        "print(test_labels.shape)\n",
        "model = keras.models.load_model('/content/drive/MyDrive/dudos/models/EIDM_8_4_classes.keras')\n",
        "history = model.fit(train_data, train_labels,\n",
        "                    batch_size=3000,\n",
        "                    epochs=100,\n",
        "                    validation_data=(test_data, test_labels))\n",
        "\n"
      ]
    },
    {
      "cell_type": "code",
      "execution_count": null,
      "metadata": {
        "colab": {
          "base_uri": "https://localhost:8080/"
        },
        "id": "t9TOzmM1fO8S",
        "outputId": "626b952d-ef6b-4a8a-f7ff-8d35a9954fee"
      },
      "outputs": [
        {
          "name": "stderr",
          "output_type": "stream",
          "text": [
            "/usr/local/lib/python3.10/dist-packages/keras/src/engine/training.py:3103: UserWarning: You are saving your model as an HDF5 file via `model.save()`. This file format is considered legacy. We recommend using instead the native Keras format, e.g. `model.save('my_model.keras')`.\n",
            "  saving_api.save_model(\n"
          ]
        }
      ],
      "source": [
        "# model.save('/content/drive/MyDrive/dudos/models/EIDM_8_4_classes.keras')\n",
        "model = keras.models.load_model('/content/drive/MyDrive/dudos/models/EIDM_8_4_classes.keras')\n",
        "model.save('/content/drive/MyDrive/dudos/models/EIDM_8_4_classes.h5')"
      ]
    },
    {
      "cell_type": "markdown",
      "metadata": {
        "id": "4OPOMOB4fO8T"
      },
      "source": [
        "# Проверка результатов"
      ]
    },
    {
      "cell_type": "code",
      "execution_count": null,
      "metadata": {
        "id": "vkhBXIRCfO8T"
      },
      "outputs": [],
      "source": [
        "test_labels"
      ]
    },
    {
      "cell_type": "code",
      "execution_count": null,
      "metadata": {
        "id": "fOwCOdZnfO8T"
      },
      "outputs": [],
      "source": [
        "model.save(MODEL_PATH)"
      ]
    },
    {
      "cell_type": "code",
      "execution_count": null,
      "metadata": {
        "id": "Sg4WxNWV-3mD"
      },
      "outputs": [],
      "source": [
        "# model = keras.models.load_model('/content/drive/MyDrive/dudos/models/EIDM_8_4_classes.keras')\n",
        "model = keras.models.load_model('/content/drive/MyDrive/dudos/models/EIDM_8_4_classes.h5')"
      ]
    },
    {
      "cell_type": "code",
      "execution_count": null,
      "metadata": {
        "colab": {
          "base_uri": "https://localhost:8080/"
        },
        "id": "AudzfC_SfO8T",
        "outputId": "0b5a49f0-d221-40ff-b2b3-4a9835e5f755"
      },
      "outputs": [
        {
          "name": "stdout",
          "output_type": "stream",
          "text": [
            "Test loss: 0.014822660014033318\n",
            "Test accuracy: 0.9956075549125671\n",
            "7264/7264 [==============================] - 81s 11ms/step\n",
            "[[9.392e-02 2.780e-12 9.999e-01 ... 1.602e-08 3.356e-08 2.255e-08]\n",
            " [9.673e-01 1.598e-03 1.539e-02 ... 1.394e-03 5.352e-04 7.187e-04]\n",
            " [9.955e-01 1.066e-03 9.895e-06 ... 3.105e-05 1.159e-05 1.119e-05]\n",
            " ...\n",
            " [1.000e+00 7.876e-03 5.616e-05 ... 3.089e-07 1.135e-07 4.369e-08]\n",
            " [9.984e-01 2.697e-06 1.866e-06 ... 8.685e-07 3.144e-07 3.698e-07]\n",
            " [6.540e-01 1.495e-14 4.069e-18 ... 1.601e-18 1.533e-17 1.657e-17]]\n"
          ]
        },
        {
          "data": {
            "text/plain": [
              "array([[0., 0., 1., ..., 0., 0., 0.],\n",
              "       [1., 0., 0., ..., 0., 0., 0.],\n",
              "       [1., 0., 0., ..., 0., 0., 0.],\n",
              "       ...,\n",
              "       [1., 0., 0., ..., 0., 0., 0.],\n",
              "       [1., 0., 0., ..., 0., 0., 0.],\n",
              "       [0., 0., 0., ..., 0., 0., 0.]], dtype=float32)"
            ]
          },
          "execution_count": 17,
          "metadata": {},
          "output_type": "execute_result"
        }
      ],
      "source": [
        "# чем меньше loss и больше accuracy тем лучше\n",
        "# ниже мы проверяем нейронную сеть\n",
        "\n",
        "score = model.evaluate(test_data, test_labels, verbose=0)\n",
        "print('Test loss:', score[0])\n",
        "print('Test accuracy:', score[1])\n",
        "\n",
        "\n",
        "predict = model.predict(test_data,verbose=1)\n",
        "print(predict)\n",
        "test_labels\n"
      ]
    },
    {
      "cell_type": "code",
      "execution_count": null,
      "metadata": {
        "id": "jhobkGeUfO8U"
      },
      "outputs": [],
      "source": [
        "b = np.zeros_like(predict)\n",
        "b[np.arange(len(predict)), predict.argmax(1)] = 1\n",
        "\n",
        "# print('Точность равна =',(test_labels == b).sum()/(len(b)*4))\n",
        "count = 0\n",
        "a = b.shape\n",
        "for i in range(a[0]):\n",
        "    if (b[i] == test_labels[i]).all()  :\n",
        "        count+=1\n",
        "# ! грубая это НЕОФИЦИАЛЬНЫЙ ТЕРМИН.\n",
        "print('Грубая точность', count/a[0])"
      ]
    },
    {
      "cell_type": "code",
      "execution_count": null,
      "metadata": {
        "id": "BguKJhk2-1WA"
      },
      "outputs": [],
      "source": [
        "result = model.predict(filtered_data[:3000])\n",
        "result"
      ]
    },
    {
      "cell_type": "code",
      "execution_count": null,
      "metadata": {
        "id": "toN6y0m1_RUs"
      },
      "outputs": [],
      "source": [
        "len(result)\n",
        "count = 0\n",
        "for i in range(len(result[:3000])):\n",
        "  max_v = np.where(result[i] == np.amax(result[i]))[0][0]\n",
        "  if max_v != 0:\n",
        "    count += 1\n",
        "    print(f\"Обнаружена атака формата {unique_labels[max_v]}\")\n",
        "if count == 0:\n",
        "  print(f\"Атак не обноруженно\")\n",
        "  count = 0"
      ]
    }
  ],
  "metadata": {
    "colab": {
      "provenance": []
    },
    "kernelspec": {
      "display_name": "Python 3",
      "name": "python3"
    },
    "language_info": {
      "codemirror_mode": {
        "name": "ipython",
        "version": 3
      },
      "file_extension": ".py",
      "mimetype": "text/x-python",
      "name": "python",
      "nbconvert_exporter": "python",
      "pygments_lexer": "ipython3",
      "version": "3.10.12"
    }
  },
  "nbformat": 4,
  "nbformat_minor": 0
}
